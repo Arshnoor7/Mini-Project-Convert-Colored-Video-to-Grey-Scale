{
  "nbformat": 4,
  "nbformat_minor": 0,
  "metadata": {
    "colab": {
      "provenance": [],
      "authorship_tag": "ABX9TyNZB8Zw6HhfoQNwvM6DL9Hy",
      "include_colab_link": true
    },
    "kernelspec": {
      "name": "python3",
      "display_name": "Python 3"
    },
    "language_info": {
      "name": "python"
    }
  },
  "cells": [
    {
      "cell_type": "markdown",
      "metadata": {
        "id": "view-in-github",
        "colab_type": "text"
      },
      "source": [
        "<a href=\"https://colab.research.google.com/github/Arshnoor7/Mini-Project-Convert-Colored-Video-to-Grey-Scale/blob/main/Convert_Colored_Video_to_Grey_Scale.ipynb\" target=\"_parent\"><img src=\"https://colab.research.google.com/assets/colab-badge.svg\" alt=\"Open In Colab\"/></a>"
      ]
    },
    {
      "cell_type": "code",
      "execution_count": 2,
      "metadata": {
        "colab": {
          "base_uri": "https://localhost:8080/"
        },
        "id": "NiIgw0NzxWPt",
        "outputId": "f2426892-2ead-45af-e613-da68f7c08e1e"
      },
      "outputs": [
        {
          "output_type": "stream",
          "name": "stdout",
          "text": [
            "Looking in indexes: https://pypi.org/simple, https://us-python.pkg.dev/colab-wheels/public/simple/\n",
            "Requirement already satisfied: opencv-python in /usr/local/lib/python3.10/dist-packages (4.7.0.72)\n",
            "Requirement already satisfied: numpy>=1.21.2 in /usr/local/lib/python3.10/dist-packages (from opencv-python) (1.22.4)\n"
          ]
        }
      ],
      "source": [
        "!pip install opencv-python"
      ]
    },
    {
      "cell_type": "code",
      "source": [
        "import cv2\n",
        "\n",
        "# Open the video file\n",
        "video_path = '/content/videoplayback.mp4'\n",
        "video = cv2.VideoCapture(video_path)\n",
        "\n",
        "# Get the original video's properties\n",
        "fps = video.get(cv2.CAP_PROP_FPS)\n",
        "width = int(video.get(cv2.CAP_PROP_FRAME_WIDTH))\n",
        "height = int(video.get(cv2.CAP_PROP_FRAME_HEIGHT))\n",
        "\n",
        "# Define the output video writer\n",
        "output_path = 'output_video.mp4'\n",
        "output_video = cv2.VideoWriter(output_path, cv2.VideoWriter_fourcc(*'mp4v'), fps, (width, height), False)\n",
        "\n",
        "# Process each frame in the video\n",
        "while video.isOpened():\n",
        "    ret, frame = video.read()\n",
        "\n",
        "    if not ret:\n",
        "        break\n",
        "\n",
        "    # Convert the frame to grayscale\n",
        "    gray_frame = cv2.cvtColor(frame, cv2.COLOR_BGR2GRAY)\n",
        "\n",
        "    # Write the grayscale frame to the output video\n",
        "    output_video.write(cv2.cvtColor(gray_frame, cv2.COLOR_GRAY2BGR))\n",
        "\n",
        "# Release the resources\n",
        "video.release()\n",
        "output_video.release()\n"
      ],
      "metadata": {
        "id": "VR3PuAnHxhgR"
      },
      "execution_count": 5,
      "outputs": []
    }
  ]
}